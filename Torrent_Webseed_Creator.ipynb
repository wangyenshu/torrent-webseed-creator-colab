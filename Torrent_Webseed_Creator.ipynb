{
  "nbformat": 4,
  "nbformat_minor": 0,
  "metadata": {
    "colab": {
      "provenance": [],
      "include_colab_link": true
    },
    "kernelspec": {
      "name": "python3",
      "display_name": "Python 3"
    }
  },
  "cells": [
    {
      "cell_type": "markdown",
      "metadata": {
        "id": "view-in-github",
        "colab_type": "text"
      },
      "source": [
        "<a href=\"https://colab.research.google.com/github/wangyenshu/torrent-webseed-creator-colab/blob/main/Torrent_Webseed_Creator.ipynb\" target=\"_parent\"><img src=\"https://colab.research.google.com/assets/colab-badge.svg\" alt=\"Open In Colab\"/></a>"
      ]
    },
    {
      "cell_type": "markdown",
      "metadata": {
        "id": "aQuWDmfm9YOi"
      },
      "source": [
        "# [Torrent Webseed Creator on Google Colaboratory](https://github.com/AnimMouse/torrent-webseed-creator-colab)\n",
        "For piece size, auto for automatic calculation, or use the recommended piece size on the README.md file."
      ]
    },
    {
      "cell_type": "code",
      "metadata": {
        "id": "VTdPT6jSh6jZ"
      },
      "source": [
        "#@title Data Input\n",
        "import os\n",
        "name = \"index\" #@param {type:\"string\"}\n",
        "comment = \"YSW's Website\" #@param {type:\"string\"}\n",
        "url = 'https://wangyenshu.github.io/index.html' #@param {type:\"string\"}\n",
        "file_name = 'index' #@param {type:\"string\"}\n",
        "piece_size = 'auto' #@param [\"auto\", \"512K\", \"1024K\", \"2048K\", \"4096K\", \"8192K\", \"16384K\", \"32768K\"]\n",
        "protocol_version = '1' #@param [\"1\", \"2\", \"hybrid\"]\n",
        "# As Google Colaboratory's forms does not work directly on os.environ, I just made it a Python variable and place it on os.environ\n",
        "os.environ[\"name\"] = name\n",
        "os.environ['comment'] = comment\n",
        "os.environ['url'] = url\n",
        "os.environ['file_name'] = file_name\n",
        "os.environ['piece_size'] = piece_size\n",
        "os.environ['protocol_version'] = protocol_version"
      ],
      "execution_count": 1,
      "outputs": []
    },
    {
      "cell_type": "markdown",
      "metadata": {
        "id": "FexiyATtNwTG"
      },
      "source": [
        "### Install Dependency\n",
        "Powered by [torrenttools](https://github.com/fbdtemme/torrenttools) to create a torrent file."
      ]
    },
    {
      "cell_type": "code",
      "source": [
        "!apt-get -qq install aria2\n",
        "!wget -qO torrenttools.AppImage https://github.com/fbdtemme/torrenttools/releases/download/v0.6.2/torrenttools-0.6.2-linux-x86_64.AppImage\n",
        "!chmod +x torrenttools.AppImage\n",
        "!./torrenttools.AppImage --appimage-extract > /dev/null"
      ],
      "metadata": {
        "id": "2l9WXKgJfgO8",
        "colab": {
          "base_uri": "https://localhost:8080/"
        },
        "outputId": "5904e084-94cf-4a96-eb3f-85d46dd80e24"
      },
      "execution_count": 2,
      "outputs": [
        {
          "output_type": "stream",
          "name": "stdout",
          "text": [
            "Selecting previously unselected package libc-ares2:amd64.\n",
            "(Reading database ... 126319 files and directories currently installed.)\n",
            "Preparing to unpack .../libc-ares2_1.18.1-1ubuntu0.22.04.3_amd64.deb ...\n",
            "Unpacking libc-ares2:amd64 (1.18.1-1ubuntu0.22.04.3) ...\n",
            "Selecting previously unselected package libaria2-0:amd64.\n",
            "Preparing to unpack .../libaria2-0_1.36.0-1_amd64.deb ...\n",
            "Unpacking libaria2-0:amd64 (1.36.0-1) ...\n",
            "Selecting previously unselected package aria2.\n",
            "Preparing to unpack .../aria2_1.36.0-1_amd64.deb ...\n",
            "Unpacking aria2 (1.36.0-1) ...\n",
            "Setting up libc-ares2:amd64 (1.18.1-1ubuntu0.22.04.3) ...\n",
            "Setting up libaria2-0:amd64 (1.36.0-1) ...\n",
            "Setting up aria2 (1.36.0-1) ...\n",
            "Processing triggers for man-db (2.10.2-1) ...\n",
            "Processing triggers for libc-bin (2.35-0ubuntu3.8) ...\n",
            "/sbin/ldconfig.real: /usr/local/lib/libtbb.so.12 is not a symbolic link\n",
            "\n",
            "/sbin/ldconfig.real: /usr/local/lib/libtcm_debug.so.1 is not a symbolic link\n",
            "\n",
            "/sbin/ldconfig.real: /usr/local/lib/libur_loader.so.0 is not a symbolic link\n",
            "\n",
            "/sbin/ldconfig.real: /usr/local/lib/libur_adapter_opencl.so.0 is not a symbolic link\n",
            "\n",
            "/sbin/ldconfig.real: /usr/local/lib/libhwloc.so.15 is not a symbolic link\n",
            "\n",
            "/sbin/ldconfig.real: /usr/local/lib/libtbbbind_2_5.so.3 is not a symbolic link\n",
            "\n",
            "/sbin/ldconfig.real: /usr/local/lib/libtbbbind_2_0.so.3 is not a symbolic link\n",
            "\n",
            "/sbin/ldconfig.real: /usr/local/lib/libtcm.so.1 is not a symbolic link\n",
            "\n",
            "/sbin/ldconfig.real: /usr/local/lib/libtbbmalloc.so.2 is not a symbolic link\n",
            "\n",
            "/sbin/ldconfig.real: /usr/local/lib/libumf.so.0 is not a symbolic link\n",
            "\n",
            "/sbin/ldconfig.real: /usr/local/lib/libur_adapter_level_zero.so.0 is not a symbolic link\n",
            "\n",
            "/sbin/ldconfig.real: /usr/local/lib/libtbbbind.so.3 is not a symbolic link\n",
            "\n",
            "/sbin/ldconfig.real: /usr/local/lib/libtbbmalloc_proxy.so.2 is not a symbolic link\n",
            "\n"
          ]
        }
      ]
    },
    {
      "cell_type": "markdown",
      "metadata": {
        "id": "E1PJwspfMDdQ"
      },
      "source": [
        "### Download File"
      ]
    },
    {
      "cell_type": "code",
      "metadata": {
        "id": "cxMeP-UZMJPB",
        "colab": {
          "base_uri": "https://localhost:8080/"
        },
        "outputId": "413a972f-fd21-4e93-8094-f6f6120d5103"
      },
      "source": [
        "!aria2c -x 16 -o \"$file_name\" \"$url\""
      ],
      "execution_count": 3,
      "outputs": [
        {
          "output_type": "stream",
          "name": "stdout",
          "text": [
            "\n",
            "06/23 13:40:26 [\u001b[1;32mNOTICE\u001b[0m] Downloading 1 item(s)\n",
            "\n",
            "06/23 13:40:27 [\u001b[1;32mNOTICE\u001b[0m] Download complete: /content/WYS.html\n",
            "\n",
            "Download Results:\n",
            "gid   |stat|avg speed  |path/URI\n",
            "======+====+===========+=======================================================\n",
            "14ebdb|\u001b[1;32mOK\u001b[0m  |   119MiB/s|/content/WYS.html\n",
            "\n",
            "Status Legend:\n",
            "(OK):download completed.\n"
          ]
        }
      ]
    },
    {
      "cell_type": "markdown",
      "metadata": {
        "id": "s33K1LqoMOt6"
      },
      "source": [
        "### Create torrent using py3createtorrent"
      ]
    },
    {
      "cell_type": "code",
      "metadata": {
        "id": "69bcY3rrMP1B",
        "colab": {
          "base_uri": "https://localhost:8080/"
        },
        "outputId": "21342757-beaf-4813-d316-41f85148b6bb"
      },
      "source": [
        "!./squashfs-root/AppRun create -v \"$protocol_version\" -o \"$name.torrent\" -w \"$url\" -c \"$comment\" -l \"$piece_size\" -s \"torrent-webseed-creator-colab\" \"$file_name\""
      ],
      "execution_count": 4,
      "outputs": [
        {
          "output_type": "stream",
          "name": "stdout",
          "text": [
            "Metafile:          WYS's Website.torrent\n",
            "Protocol version:  v1\n",
            "Piece size:        32 KiB (32768 bytes)\n",
            "Piece count:       527\n",
            "Created by:        torrenttools/0.6.2\n",
            "Created on:        2025-06-23 13:40:27 UTC\n",
            "Private:           false\n",
            "Name:              WYS.html\n",
            "Source:            torrent-webseed-creator-colab\n",
            "Comment:           \n",
            "Announce-urls:     \n",
            "DHT nodes:         \n",
            "Web seeds:         https://wangyenshu.github.io/index.html\n",
            "HTTP seeds:        \n",
            "Similar torrents:  \n",
            "Collections:       \n",
            "Other info fields: \n",
            "\n",
            "Files:\n",
            "\u001b[m  WYS.html\n",
            "\u001b[0;39;49m\n",
            "  16.45 MiB in 0 directories, 1 files\n",
            "\n",
            "\n",
            "Hashing files...\n",
            "\u001b[?7l\u001b[?25l\u001b[1`(1/1) ... ... \u001b[m|\u001b[m\u001b[m        \u001b[m|\u001b[0;39;49m ... ...\u001b[0K\u001b[1`(1/1) ... ... \u001b[m|\u001b[m\u001b[m        \u001b[m|\u001b[0;39;49m ... ...\u001b[0K\u001b[1`(1/1) ... ... \u001b[m|\u001b[m\u001b[m        \u001b[m|\u001b[0;39;49m ... ...\u001b[0K\u001b[1`(1/1) ...   0% \u001b[m|\u001b[m\u001b[m        \u001b[m|\u001b[0;39;49m 0.00   B/s     00:00  \u001b[0K\u001b[1`(1/1) ...   0% \u001b[m|\u001b[m\u001b[m        \u001b[m|\u001b[0;39;49m 0.00   B/s     00:00  \u001b[0K\u001b[1`(1/1) ...   0% \u001b[m|\u001b[m\u001b[m        \u001b[m|\u001b[0;39;49m 0.00   B/s     00:00  \u001b[0K\u001b[1`(1/1) ...   0% \u001b[m|\u001b[m\u001b[m        \u001b[m|\u001b[0;39;49m 0.00   B/s     00:00  \u001b[0K\u001b[1`(1/1) ...   0% \u001b[m|\u001b[m\u001b[m        \u001b[m|\u001b[0;39;49m 0.00   B/s     00:00  \u001b[0K\u001b[1`(1/1) ...   0% \u001b[m|\u001b[m\u001b[m        \u001b[m|\u001b[0;39;49m 0.00   B/s     00:00  \u001b[0K\u001b[1`(1/1) ...   0% \u001b[m|\u001b[m\u001b[m        \u001b[m|\u001b[0;39;49m 0.00   B/s     00:00  \u001b[0K\u001b[1`(1/1) ...   0% \u001b[m|\u001b[m\u001b[m        \u001b[m|\u001b[0;39;49m 0.00   B/s     00:00  \u001b[0K\u001b[1`(1/1) ...   0% \u001b[m|\u001b[m\u001b[m        \u001b[m|\u001b[0;39;49m 0.00   B/s     00:00  \u001b[0K\u001b[1`(1/1) ... 100% \u001b[m|\u001b[m████████\u001b[m\u001b[m|\u001b[0;39;49m 46.0 MiB/s     00:00  \u001b[0K\u001b[1`(1/1) ... 100% \u001b[m|\u001b[m████████\u001b[m\u001b[m|\u001b[0;39;49m 46.0 MiB/s     00:00  \u001b[0K\u001b[1`(1/1) ... 100% \u001b[m|\u001b[m████████\u001b[m\u001b[m|\u001b[0;39;49m 46.0 MiB/s     00:00  \u001b[0K\u001b[1`(1/1) ... 100% \u001b[m|\u001b[m████████\u001b[m\u001b[m|\u001b[0;39;49m 46.0 MiB/s     00:00  \u001b[0K\u001b[1`(1/1) ... 100% \u001b[m|\u001b[m████████\u001b[m\u001b[m|\u001b[0;39;49m 46.0 MiB/s     00:00  \u001b[0K\u001b[1`(1/1) ... 100% \u001b[m|\u001b[m████████\u001b[m\u001b[m|\u001b[0;39;49m 46.0 MiB/s     00:00  \u001b[0K\u001b[1`\u001b[0K\u001b[2ACompleted in:        0.27s\n",
            "Average hash rate:   60.7 MiB/s\n",
            "Infohash:            19513cfedb0c031f27a2f33a5f5bb92fa51fec65\n",
            "\u001b[?7h\u001b[?25hMetafile written to: WYS's Website.torrent\n",
            "Warning: could not find config.yml file: not all features will be available."
          ]
        }
      ]
    },
    {
      "cell_type": "markdown",
      "metadata": {
        "id": "F1T6FTXRMU3o"
      },
      "source": [
        "### Download torrent file"
      ]
    },
    {
      "cell_type": "code",
      "source": [
        "from google.colab import files\n",
        "files.download(f'{name}.torrent')"
      ],
      "metadata": {
        "id": "YVa4fwAMj7yF",
        "colab": {
          "base_uri": "https://localhost:8080/",
          "height": 17
        },
        "outputId": "5a931b37-a986-4d6d-f7f8-55f81b76e4e1"
      },
      "execution_count": 5,
      "outputs": [
        {
          "output_type": "display_data",
          "data": {
            "text/plain": [
              "<IPython.core.display.Javascript object>"
            ],
            "application/javascript": [
              "\n",
              "    async function download(id, filename, size) {\n",
              "      if (!google.colab.kernel.accessAllowed) {\n",
              "        return;\n",
              "      }\n",
              "      const div = document.createElement('div');\n",
              "      const label = document.createElement('label');\n",
              "      label.textContent = `Downloading \"${filename}\": `;\n",
              "      div.appendChild(label);\n",
              "      const progress = document.createElement('progress');\n",
              "      progress.max = size;\n",
              "      div.appendChild(progress);\n",
              "      document.body.appendChild(div);\n",
              "\n",
              "      const buffers = [];\n",
              "      let downloaded = 0;\n",
              "\n",
              "      const channel = await google.colab.kernel.comms.open(id);\n",
              "      // Send a message to notify the kernel that we're ready.\n",
              "      channel.send({})\n",
              "\n",
              "      for await (const message of channel.messages) {\n",
              "        // Send a message to notify the kernel that we're ready.\n",
              "        channel.send({})\n",
              "        if (message.buffers) {\n",
              "          for (const buffer of message.buffers) {\n",
              "            buffers.push(buffer);\n",
              "            downloaded += buffer.byteLength;\n",
              "            progress.value = downloaded;\n",
              "          }\n",
              "        }\n",
              "      }\n",
              "      const blob = new Blob(buffers, {type: 'application/binary'});\n",
              "      const a = document.createElement('a');\n",
              "      a.href = window.URL.createObjectURL(blob);\n",
              "      a.download = filename;\n",
              "      div.appendChild(a);\n",
              "      a.click();\n",
              "      div.remove();\n",
              "    }\n",
              "  "
            ]
          },
          "metadata": {}
        },
        {
          "output_type": "display_data",
          "data": {
            "text/plain": [
              "<IPython.core.display.Javascript object>"
            ],
            "application/javascript": [
              "download(\"download_743e0553-270b-4cf7-b337-784b47979f4a\", \"WYS's Website.torrent\", 10830)"
            ]
          },
          "metadata": {}
        }
      ]
    }
  ]
}